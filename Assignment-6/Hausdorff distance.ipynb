{
  "nbformat": 4,
  "nbformat_minor": 0,
  "metadata": {
    "colab": {
      "provenance": [],
      "authorship_tag": "ABX9TyN/JpY/kzOdWKd48EiGPAw7",
      "include_colab_link": true
    },
    "kernelspec": {
      "name": "python3",
      "display_name": "Python 3"
    },
    "language_info": {
      "name": "python"
    }
  },
  "cells": [
    {
      "cell_type": "markdown",
      "metadata": {
        "id": "view-in-github",
        "colab_type": "text"
      },
      "source": [
        "<a href=\"https://colab.research.google.com/github/Sourav7490/ma22c046_2023_PL/blob/main/Assignment-6/Hausdorff%20distance.ipynb\" target=\"_parent\"><img src=\"https://colab.research.google.com/assets/colab-badge.svg\" alt=\"Open In Colab\"/></a>"
      ]
    },
    {
      "cell_type": "code",
      "execution_count": 7,
      "metadata": {
        "id": "ZBnxYlUnEfed"
      },
      "outputs": [],
      "source": [
        "import numpy as np\n",
        "P = np.random.rand(5, 2)\n",
        "Q = np.random.rand(7, 2)"
      ]
    },
    {
      "cell_type": "code",
      "source": [
        "# Now defining Euclidean norm\n",
        "def norm(p):\n",
        "    return np.sqrt(p@p)"
      ],
      "metadata": {
        "id": "XY6WqqEtFSm9"
      },
      "execution_count": 8,
      "outputs": []
    },
    {
      "cell_type": "code",
      "source": [
        "def m(p,Q): # This takes minimum norm\n",
        "  return min(norm(p-q) for q in Q)"
      ],
      "metadata": {
        "id": "QSAPe66c126x"
      },
      "execution_count": 9,
      "outputs": []
    },
    {
      "cell_type": "code",
      "source": [
        "def h(P,Q): # This is define the given problem\n",
        "    return max(m(p,Q) for p in P)"
      ],
      "metadata": {
        "id": "Ai42aNhb3KZ8"
      },
      "execution_count": 10,
      "outputs": []
    },
    {
      "cell_type": "code",
      "source": [
        "def H(P,Q): # This is Hausdorff distance between P and Q is is also given\n",
        "    return max(h(P,Q),h(Q,P))\n",
        "\n",
        "\n",
        "print(H(P,Q))"
      ],
      "metadata": {
        "colab": {
          "base_uri": "https://localhost:8080/"
        },
        "id": "R8OSm_uh3jSW",
        "outputId": "bf7718fc-d800-4649-c735-2b379ae0b48d"
      },
      "execution_count": 17,
      "outputs": [
        {
          "output_type": "stream",
          "name": "stdout",
          "text": [
            "0.41777695652184665\n"
          ]
        }
      ]
    },
    {
      "cell_type": "code",
      "source": [],
      "metadata": {
        "id": "EpUX8UJU4Eit"
      },
      "execution_count": null,
      "outputs": []
    }
  ]
}