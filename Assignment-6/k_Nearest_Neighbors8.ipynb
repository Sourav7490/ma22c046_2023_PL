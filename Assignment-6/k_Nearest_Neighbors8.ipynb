{
  "nbformat": 4,
  "nbformat_minor": 0,
  "metadata": {
    "colab": {
      "provenance": [],
      "authorship_tag": "ABX9TyPmR225yHNHCi2LK8rztR9x",
      "include_colab_link": true
    },
    "kernelspec": {
      "name": "python3",
      "display_name": "Python 3"
    },
    "language_info": {
      "name": "python"
    }
  },
  "cells": [
    {
      "cell_type": "markdown",
      "metadata": {
        "id": "view-in-github",
        "colab_type": "text"
      },
      "source": [
        "<a href=\"https://colab.research.google.com/github/Sourav7490/ma22c046_2023_PL/blob/main/Assignment-6/k_Nearest_Neighbors8.ipynb\" target=\"_parent\"><img src=\"https://colab.research.google.com/assets/colab-badge.svg\" alt=\"Open In Colab\"/></a>"
      ]
    },
    {
      "cell_type": "code",
      "execution_count": 4,
      "metadata": {
        "id": "2t0AxAjc4niW"
      },
      "outputs": [],
      "source": [
        "import numpy as np\n",
        "P = np.array([[0,0], [0.2, 0.22], [0.1, -0.1],\n",
        "\n",
        "[1,1], [1.1, 0.9], [0.8, 0.9], [1.1, 0.63],\n",
        "[0.58, -0.1], [0.63, 0.1], [0.67, -0.3], [0.8,-0.23],\n",
        "[0.8, 0.6]])\n",
        "k = 3"
      ]
    },
    {
      "cell_type": "code",
      "source": [
        "diff= P[:, np.newaxis, :] - P[np.newaxis, :, :] # Here we compute the differences the coordinates\n",
        "diff.shape"
      ],
      "metadata": {
        "colab": {
          "base_uri": "https://localhost:8080/"
        },
        "id": "k0ji5O927ie3",
        "outputId": "756fd1df-3399-49a7-950a-46ef65967afc"
      },
      "execution_count": 5,
      "outputs": [
        {
          "output_type": "execute_result",
          "data": {
            "text/plain": [
              "(12, 12, 2)"
            ]
          },
          "metadata": {},
          "execution_count": 5
        }
      ]
    },
    {
      "cell_type": "code",
      "source": [
        "sq_diff = diff ** 2\n",
        "sq_diff.shape"
      ],
      "metadata": {
        "colab": {
          "base_uri": "https://localhost:8080/"
        },
        "id": "CZOnDP5I8Ucp",
        "outputId": "1667e476-fdcc-44d3-e656-2ab28d3b1d74"
      },
      "execution_count": 7,
      "outputs": [
        {
          "output_type": "execute_result",
          "data": {
            "text/plain": [
              "(12, 12, 2)"
            ]
          },
          "metadata": {},
          "execution_count": 7
        }
      ]
    },
    {
      "cell_type": "code",
      "source": [
        "dist_sq = sq_diff.sum(-1)\n",
        "dist_sq.shape"
      ],
      "metadata": {
        "colab": {
          "base_uri": "https://localhost:8080/"
        },
        "id": "6TJZfdFjCtGT",
        "outputId": "12609a77-5225-4496-dd9c-2de36826be12"
      },
      "execution_count": 8,
      "outputs": [
        {
          "output_type": "execute_result",
          "data": {
            "text/plain": [
              "(12, 12)"
            ]
          },
          "metadata": {},
          "execution_count": 8
        }
      ]
    },
    {
      "cell_type": "code",
      "source": [
        "nearest = np.argsort(dist_sq, axis=1) #The left side columns will then give the indices of the nearest neighbors\n",
        "print(nearest)"
      ],
      "metadata": {
        "colab": {
          "base_uri": "https://localhost:8080/"
        },
        "id": "zJPutQMTC2qN",
        "outputId": "34f8edaa-f733-493f-eadc-c0d16ef74489"
      },
      "execution_count": 9,
      "outputs": [
        {
          "output_type": "stream",
          "name": "stdout",
          "text": [
            "[[ 0  2  1  7  8  9 10 11  5  6  3  4]\n",
            " [ 1  0  2  8  7  9 11 10  5  6  3  4]\n",
            " [ 2  0  1  7  8  9 10 11  5  6  4  3]\n",
            " [ 3  4  5  6 11  8  1  7 10  9  0  2]\n",
            " [ 4  3  6  5 11  8  7  1 10  9  2  0]\n",
            " [ 5  3  4 11  6  8  1  7 10  0  9  2]\n",
            " [ 6  4 11  3  5  8  7 10  1  9  2  0]\n",
            " [ 7  8  9 10  2  1  0 11  6  5  4  3]\n",
            " [ 8  7 10  9  1 11  2  0  6  5  4  3]\n",
            " [ 9 10  7  8  2  1  0 11  6  5  4  3]\n",
            " [10  9  7  8  2  1 11  0  6  5  4  3]\n",
            " [11  5  6  4  3  8  1  7 10  9  2  0]]\n"
          ]
        }
      ]
    },
    {
      "cell_type": "code",
      "source": [
        "nearest_partition = np.argpartition(dist_sq, k + 1, axis=1)\n",
        "print(nearest_partition)"
      ],
      "metadata": {
        "colab": {
          "base_uri": "https://localhost:8080/"
        },
        "id": "4c0oPQNCDHoA",
        "outputId": "24e8dead-5883-4608-cd8c-dad6f28dccff"
      },
      "execution_count": 12,
      "outputs": [
        {
          "output_type": "stream",
          "name": "stdout",
          "text": [
            "[[ 1  7  2  0  8  9 10 11  6  4  3  5]\n",
            " [ 0  1  2  8  7  9 11  6  4  3 10  5]\n",
            " [ 1  7  2  0  8  9 10 11  6  4  3  5]\n",
            " [ 4  5  6  3 11  1  2  7  8  9 10  0]\n",
            " [ 4  5  6  3 11  1  2  7  8  9 10  0]\n",
            " [ 3  5  4 11  6  8  7  1 10  0  9  2]\n",
            " [ 4 11  6  3  5  1  2  7  8  9 10  0]\n",
            " [ 7  8  9 10  2  1  0 11  6  4  3  5]\n",
            " [ 8  7 10  9  1 11  2  0  6  4  3  5]\n",
            " [ 9 10  7  8  2  1  0 11  6  4  3  5]\n",
            " [ 9 10  7  8  2  1 11  0  6  4  3  5]\n",
            " [11  5  6  4  3  8  1  7 10  9  2  0]]\n"
          ]
        }
      ]
    },
    {
      "cell_type": "code",
      "source": [
        "import matplotlib.pyplot as plt\n",
        "plt.scatter(P[:, 0], P[:, 1])\n",
        "K = 3\n",
        "\n",
        "for i in range(P.shape[0]):\n",
        "    for j in nearest_partition[i, :K+1]:\n",
        "        # plot a line from X[i] to X[j]\n",
        "        plt.plot(*zip(P[j], P[i]), color='red')\n",
        "plt.xlabel('X')\n",
        "plt.ylabel('Y')\n",
        "plt.grid(True)\n",
        "plt.show()"
      ],
      "metadata": {
        "colab": {
          "base_uri": "https://localhost:8080/",
          "height": 449
        },
        "id": "Zo_32SGaDNHf",
        "outputId": "a3a586c3-9c04-410c-d66f-ac86cef61e63"
      },
      "execution_count": 17,
      "outputs": [
        {
          "output_type": "display_data",
          "data": {
            "text/plain": [
              "<Figure size 640x480 with 1 Axes>"
            ],
            "image/png": "[encoded data removed]"
          },
          "metadata": {}
        }
      ]
    },
    {
      "cell_type": "code",
      "source": [],
      "metadata": {
        "id": "8lsWT4y_DgzW"
      },
      "execution_count": null,
      "outputs": []
    }
  ]
}