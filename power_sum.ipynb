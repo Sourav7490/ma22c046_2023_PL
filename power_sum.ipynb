{
  "nbformat": 4,
  "nbformat_minor": 0,
  "metadata": {
    "colab": {
      "provenance": [],
      "authorship_tag": "ABX9TyNmg5o6ivt4AipDaBpXIzR1",
      "include_colab_link": true
    },
    "kernelspec": {
      "name": "python3",
      "display_name": "Python 3"
    },
    "language_info": {
      "name": "python"
    }
  },
  "cells": [
    {
      "cell_type": "markdown",
      "metadata": {
        "id": "view-in-github",
        "colab_type": "text"
      },
      "source": [
        "<a href=\"https://colab.research.google.com/github/Sourav7490/ma22c046_2023_PL/blob/main/power_sum.ipynb\" target=\"_parent\"><img src=\"https://colab.research.google.com/assets/colab-badge.svg\" alt=\"Open In Colab\"/></a>"
      ]
    },
    {
      "cell_type": "code",
      "execution_count": 7,
      "metadata": {
        "colab": {
          "base_uri": "https://localhost:8080/"
        },
        "id": "JqBFduvKfpf5",
        "outputId": "f8b427ec-84dd-4a4c-a086-1befb0541cbe"
      },
      "outputs": [
        {
          "output_type": "stream",
          "name": "stdout",
          "text": [
            "Enter the value of N: 2\n",
            "Enter the value of i: 1\n",
            "total_sum is = 3\n"
          ]
        }
      ],
      "source": [
        "N = int(input(\"Enter the value of N: \"))\n",
        "i = int(input(\"Enter the value of i: \"))\n",
        "total_sum =0\n",
        "for n in range(1,N+1):\n",
        "  total_sum += n ** i\n",
        "print(\"total_sum is =\", total_sum )"
      ]
    },
    {
      "cell_type": "code",
      "source": [
        "\n",
        "\n",
        "\n",
        "\n"
      ],
      "metadata": {
        "id": "6g7ButAYf3Ai"
      },
      "execution_count": 5,
      "outputs": []
    },
    {
      "cell_type": "code",
      "source": [],
      "metadata": {
        "id": "RD-mtbMdgI5E"
      },
      "execution_count": null,
      "outputs": []
    }
  ]
}