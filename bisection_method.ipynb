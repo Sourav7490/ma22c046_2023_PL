{
  "nbformat": 4,
  "nbformat_minor": 0,
  "metadata": {
    "colab": {
      "provenance": [],
      "authorship_tag": "ABX9TyObpquYOWoMxwjVetOrm/IT",
      "include_colab_link": true
    },
    "kernelspec": {
      "name": "python3",
      "display_name": "Python 3"
    },
    "language_info": {
      "name": "python"
    }
  },
  "cells": [
    {
      "cell_type": "markdown",
      "metadata": {
        "id": "view-in-github",
        "colab_type": "text"
      },
      "source": [
        "<a href=\"https://colab.research.google.com/github/Sourav7490/ma22c046_2023_PL/blob/main/bisection_method.ipynb\" target=\"_parent\"><img src=\"https://colab.research.google.com/assets/colab-badge.svg\" alt=\"Open In Colab\"/></a>"
      ]
    },
    {
      "cell_type": "code",
      "source": [
        "a = int(input(\"The value of a: \"))\n",
        "b = int(input(\"The value of b: \"))\n",
        "eps = float(input(\"The value of epsinol: \"))\n",
        "max_niters = int(input(\"The number of iterations: \"))\n",
        "def bisection_method(f, a, b, eps, max_niters):\n",
        "    if f(a)==0:\n",
        "        print(\"The exact root of f is:\",a)\n",
        "\n",
        "    elif f(b)==0:\n",
        "         print(\"The exact root of f is:\",b)\n",
        "         return b\n",
        "    elif f(a)*f(b) >= 0:\n",
        "        print(\"There is no root in the given interval\")\n",
        "    else:\n",
        "        niters = 0\n",
        "        while abs(b - a)  > eps or max_niters==niters:\n",
        "            c = (a + b) / 2\n",
        "            if f(c) == 0:\n",
        "                return c\n",
        "            if f(a)*f(c) < 0:\n",
        "                b = c\n",
        "            else:\n",
        "                a = c\n",
        "            niters += 1\n",
        "        print(\"The required root is:\", c)\n",
        "import math\n",
        "def function(x):\n",
        "    return x-1-math.cos(x)\n",
        "bisection_method(function,a,b,eps,max_niters)\n"
      ],
      "metadata": {
        "colab": {
          "base_uri": "https://localhost:8080/"
        },
        "id": "xdoeD6s265zU",
        "outputId": "5dd0304a-4a12-4f45-8269-3879ef249075"
      },
      "execution_count": 6,
      "outputs": [
        {
          "output_type": "stream",
          "name": "stdout",
          "text": [
            "The value of a: 1\n",
            "The value of b: 2\n",
            "The value of epsinol: 0.00001\n",
            "The number of iterations: 30\n",
            "The required root is: 1.2834243774414062\n"
          ]
        }
      ]
    },
    {
      "cell_type": "code",
      "source": [],
      "metadata": {
        "id": "t5oGq15B8wO9"
      },
      "execution_count": null,
      "outputs": []
    }
  ]
}