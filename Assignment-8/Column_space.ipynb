{
  "nbformat": 4,
  "nbformat_minor": 0,
  "metadata": {
    "colab": {
      "provenance": [],
      "authorship_tag": "ABX9TyNoNOlf0xZS18fDIjaw79tE",
      "include_colab_link": true
    },
    "kernelspec": {
      "name": "python3",
      "display_name": "Python 3"
    },
    "language_info": {
      "name": "python"
    }
  },
  "cells": [
    {
      "cell_type": "markdown",
      "metadata": {
        "id": "view-in-github",
        "colab_type": "text"
      },
      "source": [
        "<a href=\"https://colab.research.google.com/github/Sourav7490/ma22c046_2023_PL/blob/main/Assignment-8/Column_space.ipynb\" target=\"_parent\"><img src=\"https://colab.research.google.com/assets/colab-badge.svg\" alt=\"Open In Colab\"/></a>"
      ]
    },
    {
      "cell_type": "code",
      "execution_count": 2,
      "metadata": {
        "id": "yP9byNCHgTUx"
      },
      "outputs": [],
      "source": [
        "import numpy as np\n",
        "from scipy.linalg import svd, qr"
      ]
    },
    {
      "cell_type": "code",
      "source": [
        "A = np.array([[1, -2, 3, -3], [2, -4, 9, -2], [-3, 6, -9, 9]])"
      ],
      "metadata": {
        "id": "DKLRG98jZ_0N"
      },
      "execution_count": 3,
      "outputs": []
    },
    {
      "cell_type": "code",
      "source": [
        "print(A)"
      ],
      "metadata": {
        "colab": {
          "base_uri": "https://localhost:8080/"
        },
        "id": "5X-8IrKLdH7_",
        "outputId": "58f779ef-c559-4daa-e16d-72bb763c7fac"
      },
      "execution_count": 4,
      "outputs": [
        {
          "output_type": "stream",
          "name": "stdout",
          "text": [
            "[[ 1 -2  3 -3]\n",
            " [ 2 -4  9 -2]\n",
            " [-3  6 -9  9]]\n"
          ]
        }
      ]
    },
    {
      "cell_type": "markdown",
      "source": [
        "**Task-1**"
      ],
      "metadata": {
        "id": "XG3RMwxJWHKG"
      }
    },
    {
      "cell_type": "code",
      "source": [
        "u, s, vh = svd(A)\n",
        "print(\"Basis column space of using svt\")\n",
        "basis_svt=u\n",
        "print(basis_svt)\n"
      ],
      "metadata": {
        "id": "K1l2DTpPhVvj",
        "colab": {
          "base_uri": "https://localhost:8080/"
        },
        "outputId": "5cb1ca93-2231-4ec0-8229-274a1de8c44e"
      },
      "execution_count": 18,
      "outputs": [
        {
          "output_type": "stream",
          "name": "stdout",
          "text": [
            "Basis column space of using svt\n",
            "[[ 2.66235859e-01  1.70641342e-01  9.48683298e-01]\n",
            " [ 5.39615303e-01 -8.41911709e-01 -5.55111512e-17]\n",
            " [-7.98707576e-01 -5.11924025e-01  3.16227766e-01]]\n"
          ]
        }
      ]
    },
    {
      "cell_type": "code",
      "source": [
        "q, R = qr(A)\n",
        "print(\"Basis column space of QR factorization\")\n",
        "basis_qr=q\n",
        "print(basis_qr)"
      ],
      "metadata": {
        "colab": {
          "base_uri": "https://localhost:8080/"
        },
        "id": "Pvu2kv6qb7pb",
        "outputId": "4b985b32-34cd-4d39-c6b5-dd654e10d34f"
      },
      "execution_count": 21,
      "outputs": [
        {
          "output_type": "stream",
          "name": "stdout",
          "text": [
            "Basis column space of QR factorization\n",
            "[[-0.26726124  0.95618289 -0.11952286]\n",
            " [-0.53452248 -0.04390192  0.84401323]\n",
            " [ 0.80178373  0.28945968  0.52283453]]\n"
          ]
        }
      ]
    },
    {
      "cell_type": "code",
      "source": [
        "print(\"Column spaces obtained using QR and SVD are the same Rank.\")"
      ],
      "metadata": {
        "colab": {
          "base_uri": "https://localhost:8080/"
        },
        "id": "QS1q6v5qgdv9",
        "outputId": "427e3c8f-7f8b-4300-f70c-b75d0b92bdc5"
      },
      "execution_count": 13,
      "outputs": [
        {
          "output_type": "stream",
          "name": "stdout",
          "text": [
            "Column spaces obtained using QR and SVD are the same Rank.\n"
          ]
        }
      ]
    },
    {
      "cell_type": "markdown",
      "source": [
        "**Task-2**"
      ],
      "metadata": {
        "id": "BZMf-kuijGwQ"
      }
    },
    {
      "cell_type": "code",
      "source": [
        "aug_uq=np.vstack((u,q))\n",
        "print(aug_uq)\n",
        "rank_aug_uq = np.linalg.matrix_rank(aug_uq)\n",
        "rank_u = np.linalg.matrix_rank(u)\n",
        "rank_q = np.linalg.matrix_rank(q)\n",
        "\n",
        "print(\"Rank of aug_uq:\", rank_aug_uq)\n",
        "print(\"Rank of u:\", rank_u)\n",
        "print(\"Rank of q:\", rank_q)\n",
        ""
      ],
      "metadata": {
        "colab": {
          "base_uri": "https://localhost:8080/"
        },
        "id": "8U1ThMKxiaXK",
        "outputId": "4635c42a-3d0f-426f-c9af-bd251b34af97"
      },
      "execution_count": 24,
      "outputs": [
        {
          "output_type": "stream",
          "name": "stdout",
          "text": [
            "[[ 2.66235859e-01  1.70641342e-01  9.48683298e-01]\n",
            " [ 5.39615303e-01 -8.41911709e-01 -5.55111512e-17]\n",
            " [-7.98707576e-01 -5.11924025e-01  3.16227766e-01]\n",
            " [-2.67261242e-01  9.56182887e-01 -1.19522861e-01]\n",
            " [-5.34522484e-01 -4.39019222e-02  8.44013232e-01]\n",
            " [ 8.01783726e-01  2.89459681e-01  5.22834534e-01]]\n",
            "Rank of aug_uq: 3\n",
            "Rank of u: 3\n",
            "Rank of q: 3\n"
          ]
        }
      ]
    },
    {
      "cell_type": "markdown",
      "source": [
        "Here we can see that rank(aug_uq)=rank(u)=rank(q).Hence we can say that the svd matirx is able to generate the basis we got from qr and both basis generate same column space.\n"
      ],
      "metadata": {
        "id": "BXd8p-vplNzW"
      }
    },
    {
      "cell_type": "markdown",
      "source": [
        "**Task-3**"
      ],
      "metadata": {
        "id": "m_7TsEYhnlpf"
      }
    },
    {
      "cell_type": "code",
      "source": [
        "B=np.random.rand(500,500)\n",
        "U,S,VT=svd(B)\n",
        "Q,R=qr(B)\n",
        "%timeit U,S,VT\n",
        "%timeit Q,R"
      ],
      "metadata": {
        "colab": {
          "base_uri": "https://localhost:8080/"
        },
        "id": "jnTvmwwVjFY_",
        "outputId": "c524fda0-4c29-4b8c-c018-3a3dfcd62162"
      },
      "execution_count": 25,
      "outputs": [
        {
          "output_type": "stream",
          "name": "stdout",
          "text": [
            "160 ns ± 73.7 ns per loop (mean ± std. dev. of 7 runs, 1000000 loops each)\n",
            "70 ns ± 0.737 ns per loop (mean ± std. dev. of 7 runs, 10000000 loops each)\n"
          ]
        }
      ]
    },
    {
      "cell_type": "markdown",
      "source": [
        "Here we can see that QR factorization is faster than svd."
      ],
      "metadata": {
        "id": "HS6tbMnzn307"
      }
    },
    {
      "cell_type": "code",
      "source": [],
      "metadata": {
        "id": "zS_YXRTsnv-T"
      },
      "execution_count": null,
      "outputs": []
    }
  ]
}