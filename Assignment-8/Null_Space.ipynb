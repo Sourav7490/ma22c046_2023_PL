{
  "nbformat": 4,
  "nbformat_minor": 0,
  "metadata": {
    "colab": {
      "provenance": [],
      "authorship_tag": "ABX9TyOqfwl4xzGvMjyJC2pWxeVD",
      "include_colab_link": true
    },
    "kernelspec": {
      "name": "python3",
      "display_name": "Python 3"
    },
    "language_info": {
      "name": "python"
    }
  },
  "cells": [
    {
      "cell_type": "markdown",
      "metadata": {
        "id": "view-in-github",
        "colab_type": "text"
      },
      "source": [
        "<a href=\"https://colab.research.google.com/github/Sourav7490/ma22c046_2023_PL/blob/main/Assignment-8/Null_Space.ipynb\" target=\"_parent\"><img src=\"https://colab.research.google.com/assets/colab-badge.svg\" alt=\"Open In Colab\"/></a>"
      ]
    },
    {
      "cell_type": "code",
      "execution_count": 8,
      "metadata": {
        "colab": {
          "base_uri": "https://localhost:8080/"
        },
        "id": "pSNR-vBfoRug",
        "outputId": "5b4a64d8-3760-48fb-a665-dc88d8450e70"
      },
      "outputs": [
        {
          "output_type": "execute_result",
          "data": {
            "text/plain": [
              "array([[ 1, -2,  9,  5,  4],\n",
              "       [ 1, -1,  6,  5, -3],\n",
              "       [-2,  0, -6,  1, -2],\n",
              "       [ 4,  1,  9,  1, -9]])"
            ]
          },
          "metadata": {},
          "execution_count": 8
        }
      ],
      "source": [
        "import numpy as np\n",
        "from scipy.linalg import svd, qr\n",
        "#given matrix A\n",
        "A = np.array([[1, -2, 9, 5, 4,], [1, -1, 6, 5, -3], [-2, 0, -6, 1, -2],[4, 1, 9, 1, -9]])\n",
        "A"
      ]
    },
    {
      "cell_type": "markdown",
      "source": [
        "**Task-1**\n",
        "\n",
        "null space of the given matrix A using SVD."
      ],
      "metadata": {
        "id": "7_lndIK0stWR"
      }
    },
    {
      "cell_type": "code",
      "source": [
        "u,s,vT=svd(A)\n",
        "print(vT)"
      ],
      "metadata": {
        "colab": {
          "base_uri": "https://localhost:8080/"
        },
        "id": "nTwDZkmvodD0",
        "outputId": "7b64aa60-ee20-4cc6-b08c-0e3113d389ac"
      },
      "execution_count": 9,
      "outputs": [
        {
          "output_type": "stream",
          "name": "stdout",
          "text": [
            "[[ 0.24638127 -0.04503456  0.8742475   0.30107333 -0.28690474]\n",
            " [-0.12991821 -0.20626881  0.22905181  0.27058334  0.90271499]\n",
            " [ 0.3027347   0.2022255   0.3015276  -0.84037193  0.26516538]\n",
            " [-0.87219483  0.3573579   0.29073161 -0.14709627 -0.07354813]\n",
            " [ 0.26466093  0.8870317  -0.08822031  0.32905504  0.16452752]]\n"
          ]
        }
      ]
    },
    {
      "cell_type": "code",
      "source": [
        "# Find the null space from SVD\n",
        "null_space_svd = vT[:, np.where(s < 1e-10)].squeeze()\n",
        "print(\"Null space using SVD:\")\n",
        "print(null_space_svd)\n"
      ],
      "metadata": {
        "colab": {
          "base_uri": "https://localhost:8080/"
        },
        "id": "EukLt6_uwY9h",
        "outputId": "c591b63d-4116-4c32-9e5a-655555b213df"
      },
      "execution_count": 12,
      "outputs": [
        {
          "output_type": "stream",
          "name": "stdout",
          "text": [
            "Null space using SVD:\n",
            "[ 0.30107333  0.27058334 -0.84037193 -0.14709627  0.32905504]\n"
          ]
        }
      ]
    },
    {
      "cell_type": "code",
      "source": [
        "Q, R = qr(A.T)\n",
        "null_space_qr = Q[:, np.where(np.abs(np.diag(R)) < 1e-10)]      # The null space vectors are the columns of Q corresponding to zero columns in R\n",
        "print(\"Null space using QR factorization (orthogonal complement of range of transpose A\")\n",
        "print(null_space_qr)"
      ],
      "metadata": {
        "colab": {
          "base_uri": "https://localhost:8080/"
        },
        "id": "qNPB52w1wjIo",
        "outputId": "a2803cb3-070a-405a-b11a-887997816640"
      },
      "execution_count": 14,
      "outputs": [
        {
          "output_type": "stream",
          "name": "stdout",
          "text": [
            "Null space using QR factorization (orthogonal complement of range of transpose A\n",
            "[[[ 0.57324869]]\n",
            "\n",
            " [[ 0.68751498]]\n",
            "\n",
            " [[-0.1910829 ]]\n",
            "\n",
            " [[ 0.36021819]]\n",
            "\n",
            " [[ 0.18010909]]]\n"
          ]
        }
      ]
    },
    {
      "cell_type": "code",
      "source": [
        "if null_space_svd.shape[0] == null_space_qr.shape[0]:\n",
        "    print(\"Null spaces obtained using SVD and QR span the same space.\")\n",
        "else:\n",
        "    print(\"Null spaces obtained using SVD and QR do not span the same space.\")"
      ],
      "metadata": {
        "colab": {
          "base_uri": "https://localhost:8080/"
        },
        "id": "lENQVNc1yfNh",
        "outputId": "28df84c9-b602-4906-ba84-4fac2967ec5c"
      },
      "execution_count": 15,
      "outputs": [
        {
          "output_type": "stream",
          "name": "stdout",
          "text": [
            "Null spaces obtained using SVD and QR span the same space.\n"
          ]
        }
      ]
    },
    {
      "cell_type": "code",
      "source": [],
      "metadata": {
        "id": "a5W_G6WnzA5Y"
      },
      "execution_count": null,
      "outputs": []
    }
  ]
}