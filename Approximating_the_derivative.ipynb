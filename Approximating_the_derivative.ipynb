{
  "nbformat": 4,
  "nbformat_minor": 0,
  "metadata": {
    "colab": {
      "provenance": [],
      "authorship_tag": "ABX9TyO3boNiNrW7WLtdT+ji2NAC",
      "include_colab_link": true
    },
    "kernelspec": {
      "name": "python3",
      "display_name": "Python 3"
    },
    "language_info": {
      "name": "python"
    }
  },
  "cells": [
    {
      "cell_type": "markdown",
      "metadata": {
        "id": "view-in-github",
        "colab_type": "text"
      },
      "source": [
        "<a href=\"https://colab.research.google.com/github/Sourav7490/ma22c046_2023_PL/blob/main/Approximating_the_derivative.ipynb\" target=\"_parent\"><img src=\"https://colab.research.google.com/assets/colab-badge.svg\" alt=\"Open In Colab\"/></a>"
      ]
    },
    {
      "cell_type": "code",
      "execution_count": 1,
      "metadata": {
        "id": "wMtvPBeMJrBF"
      },
      "outputs": [],
      "source": [
        "def D2(f, x, h=1E-6):\n",
        "  return (f(x-h) - 2*f(x) + f(x+h)) / (h*h)"
      ]
    },
    {
      "cell_type": "code",
      "source": [
        "from math import sin\n",
        "D2(sin, 0.2)"
      ],
      "metadata": {
        "colab": {
          "base_uri": "https://localhost:8080/"
        },
        "id": "f3lrDrOdJ4Hg",
        "outputId": "34e30676-887e-4e74-81ae-8916ab1a3173"
      },
      "execution_count": 2,
      "outputs": [
        {
          "output_type": "execute_result",
          "data": {
            "text/plain": [
              "-0.19864665468105613"
            ]
          },
          "metadata": {},
          "execution_count": 2
        }
      ]
    },
    {
      "cell_type": "code",
      "source": [
        "-sin(0.2)"
      ],
      "metadata": {
        "colab": {
          "base_uri": "https://localhost:8080/"
        },
        "id": "sTPX7KMfJ8tG",
        "outputId": "f0b049b0-f481-48c7-a922-07c74bcbfeb7"
      },
      "execution_count": 3,
      "outputs": [
        {
          "output_type": "execute_result",
          "data": {
            "text/plain": [
              "-0.19866933079506122"
            ]
          },
          "metadata": {},
          "execution_count": 3
        }
      ]
    },
    {
      "cell_type": "code",
      "source": [
        "def g(x):\n",
        "  return sin(2*x)\n",
        "D2(g, 0.2)"
      ],
      "metadata": {
        "colab": {
          "base_uri": "https://localhost:8080/"
        },
        "id": "FnH7MmovJ_s3",
        "outputId": "ea8bb500-bf59-42ba-a6b7-2b910894227d"
      },
      "execution_count": 5,
      "outputs": [
        {
          "output_type": "execute_result",
          "data": {
            "text/plain": [
              "-1.5576429035490946"
            ]
          },
          "metadata": {},
          "execution_count": 5
        }
      ]
    },
    {
      "cell_type": "code",
      "source": [
        "D2(lambda x: sin(2*x), 0.2) # central diff approximation"
      ],
      "metadata": {
        "colab": {
          "base_uri": "https://localhost:8080/"
        },
        "id": "ekQuNLLqNeMa",
        "outputId": "f0507ced-853d-4379-d175-c1dcc34583c2"
      },
      "execution_count": 7,
      "outputs": [
        {
          "output_type": "execute_result",
          "data": {
            "text/plain": [
              "-1.5576429035490946"
            ]
          },
          "metadata": {},
          "execution_count": 7
        }
      ]
    },
    {
      "cell_type": "code",
      "source": [
        "-4*sin(2* 0.2) # actual 2nd derivative value"
      ],
      "metadata": {
        "colab": {
          "base_uri": "https://localhost:8080/"
        },
        "id": "xILzfGm-NrqC",
        "outputId": "02cdb92c-0e26-46e6-affc-89a6979f204e"
      },
      "execution_count": 8,
      "outputs": [
        {
          "output_type": "execute_result",
          "data": {
            "text/plain": [
              "-1.557673369234602"
            ]
          },
          "metadata": {},
          "execution_count": 8
        }
      ]
    },
    {
      "cell_type": "code",
      "source": [
        "print(' h D2 Result Error')\n",
        "for k in range(4,8):\n",
        "  h = 2**(-k)\n",
        "  d2g = D2(lambda x: x**-6, 1, h=h)\n",
        "  e = d2g - 42\n",
        "  print('%.0e %.5f %7.6f' %(h, d2g, e))"
      ],
      "metadata": {
        "colab": {
          "base_uri": "https://localhost:8080/"
        },
        "id": "M6Cic0WDNutN",
        "outputId": "af862fc7-a84e-4b25-e8d3-6436eec4505b"
      },
      "execution_count": 9,
      "outputs": [
        {
          "output_type": "stream",
          "name": "stdout",
          "text": [
            " h D2 Result Error\n",
            "6e-02 42.99863 0.998629\n",
            "3e-02 42.24698 0.246977\n",
            "2e-02 42.06158 0.061579\n",
            "8e-03 42.01538 0.015384\n"
          ]
        }
      ]
    },
    {
      "cell_type": "code",
      "source": [
        "for k in range(1,14):\n",
        "  h = 10**(-k)\n",
        "  d2g = D2(lambda x: x**-6,1, h)\n",
        "  print('%.0e %18.5f' %(h, d2g))"
      ],
      "metadata": {
        "colab": {
          "base_uri": "https://localhost:8080/"
        },
        "id": "6nCSx-CPOI5j",
        "outputId": "443d2953-33e9-4cfb-ff3d-985671e62590"
      },
      "execution_count": 10,
      "outputs": [
        {
          "output_type": "stream",
          "name": "stdout",
          "text": [
            "1e-01           44.61504\n",
            "1e-02           42.02521\n",
            "1e-03           42.00025\n",
            "1e-04           42.00000\n",
            "1e-05           41.99999\n",
            "1e-06           42.00074\n",
            "1e-07           41.94423\n",
            "1e-08           47.73959\n",
            "1e-09         -666.13381\n",
            "1e-10            0.00000\n",
            "1e-11            0.00000\n",
            "1e-12   -666133814.77509\n",
            "1e-13  66613381477.50939\n"
          ]
        }
      ]
    },
    {
      "cell_type": "code",
      "source": [],
      "metadata": {
        "id": "azz1ErvMOR7g"
      },
      "execution_count": null,
      "outputs": []
    }
  ]
}