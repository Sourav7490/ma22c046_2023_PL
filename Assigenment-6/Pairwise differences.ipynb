{
  "nbformat": 4,
  "nbformat_minor": 0,
  "metadata": {
    "colab": {
      "provenance": [],
      "authorship_tag": "ABX9TyMducV3RWXDjdjwwCdYCbzN",
      "include_colab_link": true
    },
    "kernelspec": {
      "name": "python3",
      "display_name": "Python 3"
    },
    "language_info": {
      "name": "python"
    }
  },
  "cells": [
    {
      "cell_type": "markdown",
      "metadata": {
        "id": "view-in-github",
        "colab_type": "text"
      },
      "source": [
        "<a href=\"https://colab.research.google.com/github/Sourav7490/ma22c046_2023_PL/blob/main/Assigenment-6/Pairwise%20differences.ipynb\" target=\"_parent\"><img src=\"https://colab.research.google.com/assets/colab-badge.svg\" alt=\"Open In Colab\"/></a>"
      ]
    },
    {
      "cell_type": "code",
      "execution_count": 1,
      "metadata": {
        "id": "Cfx9r-LQB38I"
      },
      "outputs": [],
      "source": [
        "import numpy as np\n",
        "x = np.random.rand(5)"
      ]
    },
    {
      "cell_type": "code",
      "source": [
        "D = np.subtract.outer(x, x)\n",
        "print(D)"
      ],
      "metadata": {
        "colab": {
          "base_uri": "https://localhost:8080/"
        },
        "id": "y9UZFo-EB-K1",
        "outputId": "404c92c0-1dd1-440d-82f3-007b7611836f"
      },
      "execution_count": 2,
      "outputs": [
        {
          "output_type": "stream",
          "name": "stdout",
          "text": [
            "[[ 0.         -0.17871539 -0.59859886 -0.63699546 -0.41624021]\n",
            " [ 0.17871539  0.         -0.41988347 -0.45828007 -0.23752482]\n",
            " [ 0.59859886  0.41988347  0.         -0.0383966   0.18235865]\n",
            " [ 0.63699546  0.45828007  0.0383966   0.          0.22075525]\n",
            " [ 0.41624021  0.23752482 -0.18235865 -0.22075525  0.        ]]\n"
          ]
        }
      ]
    },
    {
      "cell_type": "code",
      "source": [
        "# Another version\n",
        "A = np.zeros((5,5))\n",
        "for i in range(5):\n",
        "  for j in range (5):\n",
        "    A[i][j]=x[i]-x[j]\n",
        "\n",
        "print(A)"
      ],
      "metadata": {
        "colab": {
          "base_uri": "https://localhost:8080/"
        },
        "id": "DdgNDTnFClhg",
        "outputId": "556b4945-b27b-40a7-9378-9d95438e14e8"
      },
      "execution_count": 3,
      "outputs": [
        {
          "output_type": "stream",
          "name": "stdout",
          "text": [
            "[[ 0.         -0.17871539 -0.59859886 -0.63699546 -0.41624021]\n",
            " [ 0.17871539  0.         -0.41988347 -0.45828007 -0.23752482]\n",
            " [ 0.59859886  0.41988347  0.         -0.0383966   0.18235865]\n",
            " [ 0.63699546  0.45828007  0.0383966   0.          0.22075525]\n",
            " [ 0.41624021  0.23752482 -0.18235865 -0.22075525  0.        ]]\n"
          ]
        }
      ]
    },
    {
      "cell_type": "code",
      "source": [],
      "metadata": {
        "id": "T7SkW7v8Dr-c"
      },
      "execution_count": null,
      "outputs": []
    }
  ]
}