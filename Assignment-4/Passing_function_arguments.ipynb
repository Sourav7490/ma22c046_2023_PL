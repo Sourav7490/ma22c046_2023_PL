{
  "nbformat": 4,
  "nbformat_minor": 0,
  "metadata": {
    "colab": {
      "provenance": [],
      "authorship_tag": "ABX9TyPlgWoKu6x2B3zeBC0XwZBH",
      "include_colab_link": true
    },
    "kernelspec": {
      "name": "python3",
      "display_name": "Python 3"
    },
    "language_info": {
      "name": "python"
    }
  },
  "cells": [
    {
      "cell_type": "markdown",
      "metadata": {
        "id": "view-in-github",
        "colab_type": "text"
      },
      "source": [
        "<a href=\"https://colab.research.google.com/github/Sourav7490/ma22c046_2023_PL/blob/main/Assignment-4/Passing_function_arguments.ipynb\" target=\"_parent\"><img src=\"https://colab.research.google.com/assets/colab-badge.svg\" alt=\"Open In Colab\"/></a>"
      ]
    },
    {
      "cell_type": "code",
      "source": [
        "def twice(w):\n",
        "  \"\"\"Replace w by 2*w\"\"\"\n",
        "  w *= 2"
      ],
      "metadata": {
        "id": "KAZa38wdTRWD"
      },
      "execution_count": 23,
      "outputs": []
    },
    {
      "cell_type": "code",
      "source": [
        "v = [2, 5, 1]\n",
        "twice(v)\n",
        "print(v)"
      ],
      "metadata": {
        "colab": {
          "base_uri": "https://localhost:8080/"
        },
        "id": "bbaDOcl-WJ1J",
        "outputId": "ab49df66-504c-4c72-faf4-5432908edbda"
      },
      "execution_count": 26,
      "outputs": [
        {
          "output_type": "stream",
          "name": "stdout",
          "text": [
            "[2, 5, 1, 2, 5, 1]\n"
          ]
        }
      ]
    },
    {
      "cell_type": "code",
      "source": [
        "import numpy as np\n",
        "a=np.array([2,5,1])\n",
        "twice(a)\n",
        "print(a)"
      ],
      "metadata": {
        "colab": {
          "base_uri": "https://localhost:8080/"
        },
        "id": "XcunCXQfg8HB",
        "outputId": "b30dd443-c21a-4198-a78b-f0cd859fa853"
      },
      "execution_count": 27,
      "outputs": [
        {
          "output_type": "stream",
          "name": "stdout",
          "text": [
            "[ 4 10  2]\n"
          ]
        }
      ]
    },
    {
      "cell_type": "code",
      "source": [
        "s=str([2,5,1])\n",
        "twice(s)\n",
        "print(s)"
      ],
      "metadata": {
        "colab": {
          "base_uri": "https://localhost:8080/"
        },
        "id": "xnwn4jlJhAwS",
        "outputId": "da229f3b-3610-4b29-8c69-bbd3b914cb28"
      },
      "execution_count": 28,
      "outputs": [
        {
          "output_type": "stream",
          "name": "stdout",
          "text": [
            "[2, 5, 1]\n"
          ]
        }
      ]
    },
    {
      "cell_type": "markdown",
      "source": [
        "**Here we can see that string s did not changed.So string is an immutable object and List and numpy array are mutable object**"
      ],
      "metadata": {
        "id": "7QDKU7Q6jqt5"
      }
    },
    {
      "cell_type": "code",
      "source": [],
      "metadata": {
        "id": "2EMzdO--iout"
      },
      "execution_count": null,
      "outputs": []
    }
  ]
}